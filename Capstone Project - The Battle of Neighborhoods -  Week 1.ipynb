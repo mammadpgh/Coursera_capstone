{
 "cells": [
  {
   "cell_type": "markdown",
   "metadata": {},
   "source": [
    "## Capstone Project - The Battle of Neighborhoods - Week 1"
   ]
  },
  {
   "cell_type": "markdown",
   "metadata": {},
   "source": [
    "# New Sea Food Restaurant in Downtown Toronto"
   ]
  },
  {
   "cell_type": "markdown",
   "metadata": {},
   "source": [
    "# 1. Introduction"
   ]
  },
  {
   "cell_type": "markdown",
   "metadata": {},
   "source": [
    "#### Toronto is the capital city of the Canadian province of Ontario. it is the most populous city in Canada and the fourth most populous city in North America. Toronto is an international centre of business, finance, arts, and culture, and is recognized as one of the most multicultural and cosmopolitan cities in the world."
   ]
  },
  {
   "cell_type": "markdown",
   "metadata": {},
   "source": [
    "#### Surveys illustrate that in the past few years there has been an increased demand for seafood in North America. Consiquently, it would seem to be a good choice to open up a seafood restaurant in the core of the Toronto city. In this regard, a well-known seafood restaurant has contacted us, looking to open a new branch in Downtown Toronto. They are looking for guidance on which neighborhood to open the restaurant. \n",
    "\n",
    "#### The question to be answered then is, which neighborhoods in Downtown Toronto would represent the best option. We will study the success of the existing seafood restaurants in the Downtown Toronto area, using the information obtained through the Foursquare API to find out which neighborhoods are craving more for seafoods these days."
   ]
  },
  {
   "cell_type": "markdown",
   "metadata": {},
   "source": [
    "# 2. Data Collection"
   ]
  },
  {
   "cell_type": "markdown",
   "metadata": {},
   "source": [
    "#### This project will utilize publicly available data from Wikipedia and Foursquare. The data from Wikipedia and Foursquare will be explored and analyzed by considering the restaurant venues in Downtown Toronto. The restaurants from the core of the city will be reviewed in terms of the types or categories of restaurants within a specific radius. \n",
    "#### All Toronto neighborhood details along with their postal codes are available here: https://en.wikipedia.org/wiki/List_of_postal_codes_of_Canada:_M\n",
    "#### The latitude and longitude of Toronto neighborhoods are available here: http://cocl.us/Geospatial_data. \n",
    "#### With the Foursquare API, the geographical location for restaurant venues in the Downtown Toronto would be obtained. The restaurants will provide the categories needed for the analysis and these will be used to determine the viability of the selected locations for the restaurant.\n",
    "\n",
    "#### The data will be utilized to come up with a frequency analysis for a seafood restaurant in Downtown Toronto, and to come up with the best choices of neighborhoods."
   ]
  }
 ],
 "metadata": {
  "kernelspec": {
   "display_name": "Python 3.7.3 64-bit",
   "language": "python",
   "name": "python37364bit867c523b441b41fda8bd2217dbb35e5a"
  },
  "language_info": {
   "codemirror_mode": {
    "name": "ipython",
    "version": 3
   },
   "file_extension": ".py",
   "mimetype": "text/x-python",
   "name": "python",
   "nbconvert_exporter": "python",
   "pygments_lexer": "ipython3",
   "version": "3.8.5"
  }
 },
 "nbformat": 4,
 "nbformat_minor": 4
}
